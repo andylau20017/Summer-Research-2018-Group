{
 "cells": [
  {
   "cell_type": "code",
   "execution_count": 1,
   "metadata": {},
   "outputs": [],
   "source": [
    "from generator import Pattern_generator, pattern_mixer, get_pulse_list"
   ]
  },
  {
   "cell_type": "code",
   "execution_count": 2,
   "metadata": {},
   "outputs": [],
   "source": [
    "import timesynth as ts\n",
    "import numpy as np\n",
    "import math\n",
    "import matplotlib\n",
    "#matplotlib.use('agg')\n",
    "import matplotlib.pyplot as plt\n",
    "import random\n",
    "%matplotlib inline\n",
    "\n",
    "# PG1 = Pattern_generator(stop_time=10, period=24, amplitude=10, std=1, ftype = np.sin, signal_type = ts.signals.Sinusoidal)\n",
    "# #PG1.plot()\n",
    "# #PG1.plot(False)\n",
    "# print(PG1.series_length)\n",
    "# print(PG1.stop_time)\n",
    "# print(PG1.get_smooth_values())\n",
    "# ptl = [(2000,4000),(5000,6000)]\n",
    "# ml = [3,-2]\n",
    "# PG1.move(position_tuple_list = ptl, magnitude_list = ml, bump_the_smoother_line = True)\n",
    "# PG1.plot()\n",
    "# PG1.plot(False)\n",
    "# PG1.move(position_tuple_list = ptl, magnitude_list = ml, bump_the_smoother_line = False)\n",
    "# PG1.plot()\n",
    "# PG1.plot(False)"
   ]
  },
  {
   "cell_type": "code",
   "execution_count": 3,
   "metadata": {},
   "outputs": [],
   "source": [
    "# GENERAL ASSUMPTION\n",
    "window_size = 192\n",
    "period_length = 24\n",
    "N = 12500\n",
    "n_periods_per_window = window_size // period_length\n",
    "time_series_length = window_size * N\n",
    "amp = 1\n",
    "std = 0.1\n",
    "BASE_PATTERN = Pattern_generator(stop_time=time_series_length, period=24, amplitude=amp/2, std=std, ftype = np.sin, signal_type = ts.signals.Sinusoidal)\n",
    "# BASE_PATTERN.move_to_above_zero()\n",
    "# BASE_PATTERN.plot()\n",
    "\n",
    "# DATASET NO. 1\n",
    "# Potential Usage: (TBA) testing and prediction? 对照组？\n",
    "# 随机选择1%的数据长度，放入起伏，对于放入位置没有过多要求 （不overlap即可），需有长短不一（短，中，长）的起伏持续长度。\n",
    "# 起伏的振幅与正常周期函数相同，即，起伏处(此时可以理解为异常)为正常峰值的两倍左右。\n"
   ]
  },
  {
   "cell_type": "code",
   "execution_count": 4,
   "metadata": {},
   "outputs": [],
   "source": [
    "# ===> 设计 hours_in_day, days_in_week, days_in_month 三种起伏，每种各三个类似\n",
    "    \n",
    "n = 3 # num_choice_for_each_pattern\n",
    "# hours_in_day pattern\n",
    "hd_len_mean = 9\n",
    "hd_len_std = 2\n",
    "hd_pattern_list = get_pulse_list(num=n, length_mean=hd_len_mean, length_std=hd_len_std, amplitude=amp, verbose=False, plot_the_smoother_line=True)\n",
    "# hd_pattern_list = get_pulse_list(num=n, length_mean=hd_len_mean, length_std=hd_len_std, amplitude=amp, verbose=True, plot_the_smoother_line=True)\n",
    "\n",
    "# days_in_week pattern\n",
    "# weekday bump up\n",
    "dw_stop_time = 5*24\n",
    "dw_period = 24\n",
    "dw_amp = 0.1\n",
    "dw_std = 0.1\n",
    "dw_bump_extent = 3\n",
    "dw_pattern_list = []\n",
    "for i in range(n):\n",
    "    dw_pattern_list.append(Pattern_generator(stop_time=dw_stop_time, period=dw_period, amplitude=dw_amp, std=dw_std, ftype = np.sin, signal_type = ts.signals.Sinusoidal))\n",
    "    dw_pattern_list[i].move_all(bump_extent = dw_bump_extent)\n",
    "#     dw_pattern_list[i].plot()\n",
    "#     dw_pattern_list[i].plot(False)\n",
    "\n",
    "# days_in_month pattern\n",
    "dm_stop_time = 2*24\n",
    "dm_period = 24\n",
    "dm_amp = 0.1\n",
    "dm_std = 0.1\n",
    "dm_bump_extent = 10\n",
    "dm_pattern_list = []\n",
    "for i in range(n):\n",
    "    dm_pattern_list.append(Pattern_generator(stop_time=dm_stop_time, period=dm_period, amplitude=dm_amp, std=dm_std, ftype = np.sin, signal_type = ts.signals.Sinusoidal))\n",
    "    dm_pattern_list[i].move_all(bump_extent = dm_bump_extent)\n",
    "#     dm_pattern_list[i].plot()\n",
    "#     dm_pattern_list[i].plot(False)\n"
   ]
  },
  {
   "cell_type": "code",
   "execution_count": 5,
   "metadata": {},
   "outputs": [],
   "source": [
    "# ===> hours_in_day, days_in_week, days_in_month 三种起伏的对应位置\n",
    "\n",
    "# hour_in_day: 7-22\n",
    "# days_in_week: Mon-Fri, fixed\n",
    "# days_in_month: (assumption: all 28 days per month) 23-28\n",
    "\n",
    "hd_position_list = []\n",
    "for i in range(time_series_length // 24):\n",
    "    hd_position_list.append((i*24+7,i*24+22))\n",
    "# print(hd_position_list)\n",
    "\n",
    "dw_position_list = []\n",
    "for i in range(time_series_length // 24 // 7):\n",
    "    dw_position_list.append((i*24*7+0*24, i*24*7+5*24))\n",
    "# print(dw_position_list)\n",
    "\n",
    "dm_position_list = []\n",
    "for i in range(time_series_length // 24 // 28):\n",
    "    dm_position_list.append((i*24*28+23*24, i*24*28+28*24))\n",
    "# print(dm_position_list)\n"
   ]
  },
  {
   "cell_type": "code",
   "execution_count": 6,
   "metadata": {},
   "outputs": [],
   "source": [
    "num_hd_patterns = len(hd_position_list)\n",
    "num_dw_patterns = len(dw_position_list)\n",
    "num_dm_patterns = len(dm_position_list)\n",
    "\n",
    "random.shuffle(hd_position_list)\n",
    "random.shuffle(dw_position_list)\n",
    "random.shuffle(dm_position_list)\n",
    "\n",
    "hd_range = num_hd_patterns // n\n",
    "dw_range = num_dw_patterns // n\n",
    "dm_range = num_dm_patterns // n\n",
    "\n",
    "random_picked_pos_for_hd_list = [hd_position_list[i*hd_range:(i+1)*hd_range] for i in range(n)]\n",
    "random_picked_pos_for_dw_list = [dw_position_list[i*dw_range:(i+1)*dw_range] for i in range(n)]\n",
    "random_picked_pos_for_dm_list = [dm_position_list[i*dm_range:(i+1)*dm_range] for i in range(n)]\n",
    "\n",
    "# print(random_picked_pos_for_hd_list)\n",
    "# print(random_picked_pos_for_dw_list)\n",
    "# print(random_picked_pos_for_dm_list)\n",
    "\n",
    "# FINAL STEP YAY!\n",
    "for i in range(n):\n",
    "    pattern_mixer(pattern_generator_1 = BASE_PATTERN, pattern_generator_2 = hd_pattern_list[i],  position_tuple_list = random_picked_pos_for_hd_list[i], mix_the_smoother_lines = True)\n",
    "    pattern_mixer(pattern_generator_1 = BASE_PATTERN, pattern_generator_2 = hd_pattern_list[i],  position_tuple_list = random_picked_pos_for_hd_list[i], mix_the_smoother_lines = False)\n",
    "    pattern_mixer(pattern_generator_1 = BASE_PATTERN, pattern_generator_2 = dw_pattern_list[i],  position_tuple_list = random_picked_pos_for_dw_list[i], mix_the_smoother_lines = True)\n",
    "    pattern_mixer(pattern_generator_1 = BASE_PATTERN, pattern_generator_2 = dw_pattern_list[i],  position_tuple_list = random_picked_pos_for_dw_list[i], mix_the_smoother_lines = False)\n",
    "    pattern_mixer(pattern_generator_1 = BASE_PATTERN, pattern_generator_2 = dm_pattern_list[i],  position_tuple_list = random_picked_pos_for_dm_list[i], mix_the_smoother_lines = True)\n",
    "    pattern_mixer(pattern_generator_1 = BASE_PATTERN, pattern_generator_2 = dm_pattern_list[i],  position_tuple_list = random_picked_pos_for_dm_list[i], mix_the_smoother_lines = False)"
   ]
  },
  {
   "cell_type": "code",
   "execution_count": 7,
   "metadata": {},
   "outputs": [
    {
     "data": {
      "image/png": "[encoded data removed]",
      "text/plain": [
       "<Figure size 432x288 with 1 Axes>"
      ]
     },
     "metadata": {},
     "output_type": "display_data"
    }
   ],
   "source": [
    "BASE_PATTERN.plot(plot_till=24*28)\n",
    "smooth_ys = BASE_PATTERN.get_smooth_values()\n",
    "\n",
    "\n",
    "np.save('Dataset_2_normal.npy', smooth_ys)"
   ]
  },
  {
   "cell_type": "code",
   "execution_count": 8,
   "metadata": {},
   "outputs": [],
   "source": [
    "# previous thinking, not finished\n",
    "\n",
    "# 每个window有一段异常值\n",
    "# 变量1：开始时间 （极早) 早 中 晚 （极晚）\n",
    "# 变量2：结束时间 （极早) 早 中 晚 （极晚）\n",
    "# 变量3： 异常值本身的性质\n",
    "#     3a: 形状： 平移 叠加sin 叠加pulse\n",
    "#     3b: shift-extent （对于平移） / amplitude （对于周期性函数）\n",
    "# potential research area I 尝试发现与异常值(anomaly)相关的变量对使用各种模型进行的预测的影响\n"
   ]
  }
 ],
 "metadata": {
  "kernelspec": {
   "display_name": "Python 3",
   "language": "python",
   "name": "python3"
  },
  "language_info": {
   "codemirror_mode": {
    "name": "ipython",
    "version": 3
   },
   "file_extension": ".py",
   "mimetype": "text/x-python",
   "name": "python",
   "nbconvert_exporter": "python",
   "pygments_lexer": "ipython3",
   "version": "3.6.5"
  }
 },
 "nbformat": 4,
 "nbformat_minor": 2
}
